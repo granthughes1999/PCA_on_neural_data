{
 "cells": [
  {
   "cell_type": "code",
   "execution_count": 3,
   "metadata": {},
   "outputs": [],
   "source": [
    "import os\n",
    "import shutil\n",
    "\n",
    "def create_mouse_analysis_folder(master_dir, mouse_name, mice_output_dir=\"mice\"):\n",
    "    \"\"\"\n",
    "    Copies the entire contents of the master analysis folder to a new folder for a specific mouse.\n",
    "    Skips if the mouse folder already exists.\n",
    "\n",
    "    Args:\n",
    "        master_dir (str): Path to the master folder (containing analyze_data/, general_nwb_creation/, etc.)\n",
    "        mouse_name (str): Name or ID of the mouse (e.g., 'mouse_001')\n",
    "        mice_output_dir (str): Parent directory where mouse folders will be created (default = 'mice')\n",
    "    \"\"\"\n",
    "    # Create full path for new mouse\n",
    "    mouse_folder_path = os.path.join(mice_output_dir, mouse_name)\n",
    "\n",
    "    # Fail-safe: check if the folder already exists\n",
    "    if os.path.exists(mouse_folder_path):\n",
    "        print(f\"⚠️  Mouse folder already exists: {mouse_folder_path} — skipping to avoid overwrite.\")\n",
    "        return\n",
    "\n",
    "    # Create parent output dir if needed\n",
    "    os.makedirs(mice_output_dir, exist_ok=True)\n",
    "\n",
    "    # Copy master folder contents into new mouse folder\n",
    "    shutil.copytree(master_dir, mouse_folder_path)\n",
    "\n",
    "    print(f\"✅ Mouse folder created: {mouse_folder_path}\")\n"
   ]
  },
  {
   "cell_type": "code",
   "execution_count": 5,
   "metadata": {},
   "outputs": [
    {
     "name": "stdout",
     "output_type": "stream",
     "text": [
      "⚠️  Mouse folder already exists: C:\\Users\\user\\Documents\\github\\PCA_on_neural_data\\mice\\reach7_07_2024-12-04_20-57-49_008 — skipping to avoid overwrite.\n"
     ]
    }
   ],
   "source": [
    "# The new mouse name or ID\n",
    "mouse_id = \"reach7_07_2024-12-04_20-57-49_008\"                                                 \n",
    "\n",
    "\n",
    "# Replace these with the paths on your local machine\n",
    "master_directory = r\"C:\\Users\\user\\Documents\\github\\PCA_on_neural_data\\master\"       # Path to your 'master/' folder\n",
    "mouse_output_directory = r\"C:\\Users\\user\\Documents\\github\\PCA_on_neural_data\\mice\"  # Where to create the mouse folder\n",
    "\n",
    "# Run the function\n",
    "create_mouse_analysis_folder(master_directory, mouse_id, mouse_output_directory)"
   ]
  },
  {
   "cell_type": "code",
   "execution_count": null,
   "metadata": {},
   "outputs": [],
   "source": []
  }
 ],
 "metadata": {
  "kernelspec": {
   "display_name": "base",
   "language": "python",
   "name": "python3"
  },
  "language_info": {
   "codemirror_mode": {
    "name": "ipython",
    "version": 3
   },
   "file_extension": ".py",
   "mimetype": "text/x-python",
   "name": "python",
   "nbconvert_exporter": "python",
   "pygments_lexer": "ipython3",
   "version": "3.11.5"
  }
 },
 "nbformat": 4,
 "nbformat_minor": 2
}
